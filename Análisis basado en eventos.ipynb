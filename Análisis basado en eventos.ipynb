{
 "cells": [
  {
   "cell_type": "markdown",
   "id": "fc4e10c3",
   "metadata": {},
   "source": [
    "# Proyecto 11. Análisis basado en eventos.\n",
    "## Introducción\n",
    "\n",
    "Este proyecto se centra en el análisis del comportamiento del usuario en una aplicación móvil de venta de productos alimenticios, con el objetivo de optimizar la experiencia del usuario y aumentar las tasas de conversión. A través de un análisis exhaustivo de los registros de eventos de los usuarios, exploraremos el embudo de ventas, identificaremos los puntos de fricción y evaluaremos el impacto de un rediseño de la interfaz de usuario mediante pruebas A/B.\n",
    "\n",
    "Contexto del Proyecto:\n",
    "\n",
    "Trabajamos en una empresa emergente que busca mejorar continuamente su aplicación móvil para ofrecer la mejor experiencia posible a sus usuarios. Para ello, es fundamental comprender cómo interactúan los usuarios con la aplicación, desde la primera interacción hasta la realización de una compra. Este análisis nos permitirá identificar áreas de mejora y tomar decisiones basadas en datos para optimizar la aplicación.\n",
    "\n",
    "Objetivos Principales:\n",
    "\n",
    "- Análisis del Embudo de Ventas: Investigar cómo los usuarios navegan a través de la aplicación, identificando las etapas del embudo de ventas y calculando las tasas de conversión en cada etapa.\n",
    "- Identificación de Puntos de Fricción: Determinar en qué etapas del embudo se produce la mayor pérdida de usuarios, con el fin de identificar posibles problemas en la interfaz de usuario o en el flujo de la aplicación.\n",
    "- Evaluación del Rediseño de la Interfaz: Realizar un análisis A/B para evaluar el impacto del cambio de fuentes en la interfaz de usuario, comparando el comportamiento de los usuarios en la versión original y la versión rediseñada.\n",
    "- Toma de Decisiones Basadas en Datos: Utilizar los resultados del análisis para tomar decisiones informadas sobre la optimización de la aplicación y la mejora de la experiencia del usuario.\n",
    "\n",
    "## Abrir el archivo de datos y leer la información general.\n",
    "### Se cargan las bibliotecas necesarias y los datos desde el archivo CSV."
   ]
  },
  {
   "cell_type": "code",
   "execution_count": 1,
   "id": "fa925ea8",
   "metadata": {},
   "outputs": [],
   "source": [
    "import pandas as pd\n",
    "import seaborn as sns\n",
    "import matplotlib.pyplot as plt\n",
    "import numpy as np\n",
    "from scipy import stats\n",
    "from statsmodels.stats.proportion import proportions_ztest"
   ]
  },
  {
   "cell_type": "code",
   "execution_count": 3,
   "id": "49708c1a",
   "metadata": {},
   "outputs": [],
   "source": [
    "logs = pd.read_csv('D:/TripleTen/logs_exp_us.csv', sep='\\t')"
   ]
  },
  {
   "cell_type": "markdown",
   "id": "b353972c",
   "metadata": {},
   "source": [
    "### Se examina la información básica del DataFrame lo que nos muestra el tipo de datos de cada columna y las primeras filas."
   ]
  },
  {
   "cell_type": "code",
   "execution_count": null,
   "id": "cda123b0",
   "metadata": {},
   "outputs": [
    {
     "name": "stdout",
     "output_type": "stream",
     "text": [
      "Primeras filas del dataset:\n",
      "                 EventName         DeviceIDHash  EventTimestamp  ExpId\n",
      "0         MainScreenAppear  4575588528974610257      1564029816    246\n",
      "1         MainScreenAppear  7416695313311560658      1564053102    246\n",
      "2  PaymentScreenSuccessful  3518123091307005509      1564054127    248\n",
      "3         CartScreenAppear  3518123091307005509      1564054127    248\n",
      "4  PaymentScreenSuccessful  6217807653094995999      1564055322    248\n"
     ]
    }
   ],
   "source": [
    "# Se muestran las primeras filas\n",
    "print(\"Primeras filas del dataset:\")\n",
    "print(logs.head())"
   ]
  },
  {
   "cell_type": "code",
   "execution_count": 5,
   "id": "ed5bb626",
   "metadata": {},
   "outputs": [
    {
     "name": "stdout",
     "output_type": "stream",
     "text": [
      "\n",
      "Información general del dataset:\n",
      "<class 'pandas.core.frame.DataFrame'>\n",
      "RangeIndex: 244126 entries, 0 to 244125\n",
      "Data columns (total 4 columns):\n",
      " #   Column          Non-Null Count   Dtype \n",
      "---  ------          --------------   ----- \n",
      " 0   EventName       244126 non-null  object\n",
      " 1   DeviceIDHash    244126 non-null  int64 \n",
      " 2   EventTimestamp  244126 non-null  int64 \n",
      " 3   ExpId           244126 non-null  int64 \n",
      "dtypes: int64(3), object(1)\n",
      "memory usage: 7.5+ MB\n"
     ]
    },
    {
     "data": {
      "text/plain": [
       "None"
      ]
     },
     "metadata": {},
     "output_type": "display_data"
    }
   ],
   "source": [
    "# Mostrar información general\n",
    "print(\"\\nInformación general del dataset:\")\n",
    "display(logs.info())"
   ]
  },
  {
   "cell_type": "markdown",
   "id": "d8c768d5",
   "metadata": {},
   "source": [
    "## Preparar los datos para el análisis."
   ]
  },
  {
   "cell_type": "code",
   "execution_count": 6,
   "id": "8836bc7a",
   "metadata": {},
   "outputs": [],
   "source": [
    "# Cambiar el nombre de las columnas\n",
    "logs.columns = ['name', 'user_id', 'time', 'experiment']"
   ]
  },
  {
   "cell_type": "code",
   "execution_count": 7,
   "id": "40b874ea",
   "metadata": {},
   "outputs": [],
   "source": [
    "# Cambiar los tipos de datos de 'event_datetime' y 'event_date' a datetime, y 'experiment' a category\n",
    "logs['date_time'] = pd.to_datetime(logs['time'], unit='s')\n",
    "logs['experiment'] = logs['experiment'].astype('category')\n",
    "logs['date'] = logs['date_time'].dt.date\n",
    "logs['date'] = pd.to_datetime(logs['date'])"
   ]
  },
  {
   "cell_type": "code",
   "execution_count": 8,
   "id": "3c24cf34",
   "metadata": {},
   "outputs": [
    {
     "name": "stdout",
     "output_type": "stream",
     "text": [
      "\n",
      "Valores ausentes:\n",
      "name          0\n",
      "user_id       0\n",
      "time          0\n",
      "experiment    0\n",
      "date_time     0\n",
      "date          0\n",
      "dtype: int64\n"
     ]
    }
   ],
   "source": [
    "# Comprobar valores ausentes y tipos de datos\n",
    "print(\"\\nValores ausentes:\")\n",
    "print(logs.isnull().sum())"
   ]
  },
  {
   "cell_type": "code",
   "execution_count": 9,
   "id": "0082de53",
   "metadata": {},
   "outputs": [
    {
     "name": "stdout",
     "output_type": "stream",
     "text": [
      "\n",
      "Tipos de datos:\n",
      "name                  object\n",
      "user_id                int64\n",
      "time                   int64\n",
      "experiment          category\n",
      "date_time     datetime64[ns]\n",
      "date          datetime64[ns]\n",
      "dtype: object\n"
     ]
    }
   ],
   "source": [
    "print(\"\\nTipos de datos:\")\n",
    "print(logs.dtypes)"
   ]
  },
  {
   "cell_type": "code",
   "execution_count": 10,
   "id": "04c11e16",
   "metadata": {},
   "outputs": [
    {
     "name": "stdout",
     "output_type": "stream",
     "text": [
      "\n",
      "Primeras filas con cambios:\n",
      "                      name              user_id        time experiment  \\\n",
      "0         MainScreenAppear  4575588528974610257  1564029816        246   \n",
      "1         MainScreenAppear  7416695313311560658  1564053102        246   \n",
      "2  PaymentScreenSuccessful  3518123091307005509  1564054127        248   \n",
      "3         CartScreenAppear  3518123091307005509  1564054127        248   \n",
      "4  PaymentScreenSuccessful  6217807653094995999  1564055322        248   \n",
      "\n",
      "            date_time       date  \n",
      "0 2019-07-25 04:43:36 2019-07-25  \n",
      "1 2019-07-25 11:11:42 2019-07-25  \n",
      "2 2019-07-25 11:28:47 2019-07-25  \n",
      "3 2019-07-25 11:28:47 2019-07-25  \n",
      "4 2019-07-25 11:48:42 2019-07-25  \n"
     ]
    }
   ],
   "source": [
    "# Mostrar las primeras filas para verificar los cambios\n",
    "print(\"\\nPrimeras filas con cambios:\")\n",
    "print(logs.head())"
   ]
  },
  {
   "cell_type": "markdown",
   "id": "524e7e73",
   "metadata": {},
   "source": [
    "- Se renombraron las columnas para mayor claridad y facilidad de uso, lo que facilita la referencia a ellas en el análisis posterior.\n",
    "\n",
    "- Se convirtió la columna time a un formato de fecha y hora (datetime64[ns]) para permitir un análisis temporal preciso. \n",
    "Además, se convirtió la columna experiment a tipo category para optimizar el uso de memoria y mejorar la eficiencia del análisis.\n",
    "\n",
    "- Se extrajo la fecha y la hora de la columna date_time para crear dos nuevas columnas: date_time (que contiene la información completa de fecha y hora) y date (que solo contiene la fecha). Esto facilita la realización de análisis por fecha o por hora, según sea necesario.\n",
    "\n",
    "- Se comprobó si había valores ausentes en el conjunto de datos, y se encontró que no había ninguno. Esto indica que el conjunto de datos está completo en términos de valores, lo que reduce la necesidad de realizar imputaciones o eliminaciones de datos.\n",
    "\n",
    "Los datos se han preparado correctamente para el análisis. Se han realizado las conversiones de tipos de datos necesarias, se han agregado columnas relevantes y se ha verificado la ausencia de valores ausentes. El conjunto de datos está ahora listo para el análisis exploratorio y las pruebas estadísticas en los pasos posteriores."
   ]
  },
  {
   "cell_type": "code",
   "execution_count": 11,
   "id": "3d9b9ffa",
   "metadata": {},
   "outputs": [
    {
     "name": "stdout",
     "output_type": "stream",
     "text": [
      "Eventos únicos: 5\n"
     ]
    }
   ],
   "source": [
    "# 1. ¿Cuántos eventos hay en los registros?\n",
    "print(\"Eventos únicos:\", logs['name'].nunique())"
   ]
  },
  {
   "cell_type": "markdown",
   "id": "c9b6f0bc",
   "metadata": {},
   "source": [
    "### ¿Cuántos usuarios hay en los registros?"
   ]
  },
  {
   "cell_type": "code",
   "execution_count": 12,
   "id": "c885964d",
   "metadata": {},
   "outputs": [
    {
     "name": "stdout",
     "output_type": "stream",
     "text": [
      "Usuarios únicos: 7551\n"
     ]
    }
   ],
   "source": [
    "# 2. ¿Cuántos usuarios hay en los registros?\n",
    "print(\"Usuarios únicos:\", logs['user_id'].nunique())"
   ]
  },
  {
   "cell_type": "markdown",
   "id": "4b60ae11",
   "metadata": {},
   "source": [
    "### ¿Cuál es el promedio de eventos por usuario?"
   ]
  },
  {
   "cell_type": "code",
   "execution_count": 13,
   "id": "89dc74b0",
   "metadata": {},
   "outputs": [
    {
     "name": "stdout",
     "output_type": "stream",
     "text": [
      "Promedio de eventos por usuario: 32.33028737915508\n"
     ]
    }
   ],
   "source": [
    "# 3. ¿Cuál es el promedio de eventos por usuario?\n",
    "print(\"Promedio de eventos por usuario:\", logs.groupby('user_id')['name'].count().mean())"
   ]
  },
  {
   "cell_type": "markdown",
   "id": "8916c70b",
   "metadata": {},
   "source": [
    "### ¿Qué periodo de tiempo cubren los datos?"
   ]
  },
  {
   "cell_type": "code",
   "execution_count": 14,
   "id": "faeeed3c",
   "metadata": {},
   "outputs": [
    {
     "name": "stdout",
     "output_type": "stream",
     "text": [
      "count                           244126\n",
      "mean     2019-08-04 10:18:35.842716160\n",
      "min                2019-07-25 04:43:36\n",
      "25%      2019-08-02 14:36:20.249999872\n",
      "50%                2019-08-04 11:49:55\n",
      "75%                2019-08-06 06:55:11\n",
      "max                2019-08-07 21:15:17\n",
      "Name: date_time, dtype: object\n"
     ]
    }
   ],
   "source": [
    "print(logs['date_time'].describe())"
   ]
  },
  {
   "cell_type": "code",
   "execution_count": 15,
   "id": "835cc840",
   "metadata": {},
   "outputs": [
    {
     "name": "stdout",
     "output_type": "stream",
     "text": [
      "Periodo de tiempo: 2019-07-25 04:43:36 a 2019-08-07 21:15:17\n"
     ]
    }
   ],
   "source": [
    "# 4. ¿Qué periodo de tiempo cubren los datos?\n",
    "fecha_minima = logs['date_time'].min()\n",
    "fecha_maxima = logs['date_time'].max()\n",
    "print(f\"Periodo de tiempo: {fecha_minima} a {fecha_maxima}\")"
   ]
  },
  {
   "cell_type": "code",
   "execution_count": 16,
   "id": "2f02927a",
   "metadata": {},
   "outputs": [
    {
     "data": {
      "image/png": "[encoded data removed]",
      "text/plain": [
       "<Figure size 1200x600 with 1 Axes>"
      ]
     },
     "metadata": {},
     "output_type": "display_data"
    }
   ],
   "source": [
    "# Histograma por fecha y hora\n",
    "plt.figure(figsize=(12, 6))\n",
    "logs['date_time'].hist(bins=100)\n",
    "plt.title('Distribución de eventos por fecha y hora')\n",
    "plt.xlabel('Fecha y hora')\n",
    "plt.ylabel('Número de eventos')\n",
    "plt.show()"
   ]
  },
  {
   "cell_type": "markdown",
   "id": "70919fd9",
   "metadata": {},
   "source": [
    "Se observa un cambio dramático en el volumen de eventos alrededor del 1 de agosto de 2019. Antes de esta fecha, el número de eventos es muy bajo, casi insignificante. Después del 1 de agosto, hay un aumento masivo y constante en la actividad. Después del 1 de agosto, se percibe un patrón diario claro en el número de eventos, con picos y valles regulares. Esto sugiere que la actividad de los usuarios varía a lo largo del día."
   ]
  },
  {
   "cell_type": "code",
   "execution_count": 17,
   "id": "9df0fcdb",
   "metadata": {},
   "outputs": [
    {
     "name": "stdout",
     "output_type": "stream",
     "text": [
      "Filas después de filtrar: 241298\n"
     ]
    }
   ],
   "source": [
    "# Encontrar el momento en que los datos comienzan a estar completos (umbral visual)\n",
    "logs_filtrados = logs[logs['date'] >= '2019-08-01'].copy()\n",
    "print(\"Filas después de filtrar:\", logs_filtrados.shape[0])"
   ]
  },
  {
   "cell_type": "code",
   "execution_count": 18,
   "id": "bf75823f",
   "metadata": {},
   "outputs": [
    {
     "name": "stdout",
     "output_type": "stream",
     "text": [
      "experiment\n",
      "246    2484\n",
      "247    2513\n",
      "248    2537\n",
      "Name: user_id, dtype: int64\n"
     ]
    },
    {
     "name": "stderr",
     "output_type": "stream",
     "text": [
      "C:\\Users\\adria\\AppData\\Local\\Temp\\ipykernel_13024\\3552680146.py:1: FutureWarning: The default of observed=False is deprecated and will be changed to True in a future version of pandas. Pass observed=False to retain current behavior or observed=True to adopt the future default and silence this warning.\n",
      "  print(logs_filtrados.groupby('experiment')['user_id'].nunique())\n"
     ]
    }
   ],
   "source": [
    "print(logs_filtrados.groupby('experiment')['user_id'].nunique())"
   ]
  },
  {
   "cell_type": "markdown",
   "id": "9a273148",
   "metadata": {},
   "source": [
    "### ¿Qué periodo representan realmente los datos?"
   ]
  },
  {
   "cell_type": "code",
   "execution_count": 19,
   "id": "7114f3a4",
   "metadata": {},
   "outputs": [
    {
     "name": "stdout",
     "output_type": "stream",
     "text": [
      "Periodo real de los datos: 2019-08-01 00:00:00 a 2019-08-07 00:00:00\n"
     ]
    }
   ],
   "source": [
    "print(f\"Periodo real de los datos: {logs_filtrados['date'].min()} a {logs_filtrados['date'].max()}\")"
   ]
  },
  {
   "cell_type": "markdown",
   "id": "7847864e",
   "metadata": {},
   "source": [
    "### ¿Perdiste muchos eventos y usuarios al excluir los datos más antiguos?"
   ]
  },
  {
   "cell_type": "code",
   "execution_count": 20,
   "id": "d2abab59",
   "metadata": {},
   "outputs": [
    {
     "name": "stdout",
     "output_type": "stream",
     "text": [
      "Eventos perdidos: 2828\n",
      "Usuarios perdidos: 17\n"
     ]
    }
   ],
   "source": [
    "# 5. ¿Perdiste muchos eventos y usuarios al excluir los datos más antiguos?\n",
    "eventos_antes = logs.shape[0]\n",
    "eventos_despues = logs_filtrados.shape[0]\n",
    "usuarios_antes = logs['user_id'].nunique()\n",
    "usuarios_despues = logs_filtrados['user_id'].nunique()\n",
    "print(f\"Eventos perdidos: {eventos_antes - eventos_despues}\")\n",
    "print(f\"Usuarios perdidos: {usuarios_antes - usuarios_despues}\")"
   ]
  },
  {
   "cell_type": "markdown",
   "id": "bd1f2325",
   "metadata": {},
   "source": [
    "### Asegurar que se tienen usuarios de los tres grupos experimentales."
   ]
  },
  {
   "cell_type": "code",
   "execution_count": 21,
   "id": "a9ee7e4e",
   "metadata": {},
   "outputs": [
    {
     "name": "stdout",
     "output_type": "stream",
     "text": [
      "experiment\n",
      "246    2484\n",
      "247    2513\n",
      "248    2537\n",
      "Name: user_id, dtype: int64\n"
     ]
    },
    {
     "name": "stderr",
     "output_type": "stream",
     "text": [
      "C:\\Users\\adria\\AppData\\Local\\Temp\\ipykernel_13024\\3215548228.py:2: FutureWarning: The default of observed=False is deprecated and will be changed to True in a future version of pandas. Pass observed=False to retain current behavior or observed=True to adopt the future default and silence this warning.\n",
      "  print(logs_filtrados.groupby('experiment')['user_id'].nunique())\n"
     ]
    }
   ],
   "source": [
    "# 6. Asegúrate de tener usuarios de los tres grupos experimentales.\n",
    "print(logs_filtrados.groupby('experiment')['user_id'].nunique())"
   ]
  },
  {
   "cell_type": "code",
   "execution_count": 22,
   "id": "3655b5e7",
   "metadata": {},
   "outputs": [
    {
     "name": "stderr",
     "output_type": "stream",
     "text": [
      "C:\\Users\\adria\\AppData\\Local\\Temp\\ipykernel_13024\\428145831.py:1: FutureWarning: The default of observed=False is deprecated and will be changed to True in a future version of pandas. Pass observed=False to retain current behavior or observed=True to adopt the future default and silence this warning.\n",
      "  usuarios_por_grupo = logs.groupby('experiment')['user_id'].nunique()\n"
     ]
    },
    {
     "data": {
      "image/png": "[encoded data removed]",
      "text/plain": [
       "<Figure size 1000x600 with 1 Axes>"
      ]
     },
     "metadata": {},
     "output_type": "display_data"
    }
   ],
   "source": [
    "usuarios_por_grupo = logs.groupby('experiment')['user_id'].nunique()\n",
    "\n",
    "plt.figure(figsize=(10, 6))\n",
    "plt.bar(usuarios_por_grupo.index, usuarios_por_grupo.values, color=['skyblue', 'lightgreen', 'salmon'])\n",
    "\n",
    "plt.xlabel('Grupo Experimental (exp_id)')\n",
    "plt.ylabel('Número de Usuarios Únicos')\n",
    "plt.title('Distribución de Usuarios Únicos por Grupo Experimental')\n",
    "\n",
    "plt.xticks(usuarios_por_grupo.index) \n",
    "plt.grid(axis='y', linestyle='--', alpha=0.7)  \n",
    "plt.show()"
   ]
  },
  {
   "cell_type": "markdown",
   "id": "5cf5870f",
   "metadata": {},
   "source": [
    "Se observa que el número de usuarios únicos en cada uno de los tres grupos experimentales (246, 247, y 248) es muy similar. Las barras tienen alturas casi idénticas."
   ]
  },
  {
   "cell_type": "markdown",
   "id": "6b4a1b0e",
   "metadata": {},
   "source": [
    "- Hay 5 tipos de eventos únicos en el conjunto de datos.\n",
    "- Hay 7551 usuarios únicos en el conjunto de datos original.\n",
    "- Cada usuario realiza un promedio de 32.33 eventos.\n",
    "- Los datos cubren desde el 25 de julio de 2019 hasta el 7 de agosto de 2019.\n",
    "- El histograma muestra un aumento dramático en la actividad a partir del primero de agosto del 2019. Por lo cual, es prudente filtrar la data para obtener una información mas precisa sobre el comportamiento de los usuarios.\n",
    "- Después de filtrar los datos para incluir solo las fechas a partir del 1 de agosto de 2019, quedan 241,298 filas.\n",
    "- Los tres grupos experimentales (246, 247, 248) tienen una cantidad similar de usuarios, lo que indica una distribución uniforme.\n",
    "- El período de tiempo real después del filtrado es del 1 de agosto de 2019 al 7 de agosto de 2019.\n",
    "- Se perdieron 2,828 eventos y 17 usuarios al filtrar los datos.\n",
    "\n",
    "\n",
    "El conjunto de datos contiene información sobre 5 eventos distintos y 7,551 usuarios únicos.\n",
    "La actividad de los usuarios aumentó significativamente a partir del 1 de agosto de 2019. Esta observación justifica la decisión de filtrar los datos para centrarse en el período de mayor actividad, además de que la data anterior al primero de agosto puede no ser confiable.\n",
    "\n",
    "Al filtrar los datos, se eliminó una pequeña cantidad de eventos y usuarios. Sin embargo, esta pérdida es insignificante en comparación con el tamaño total del conjunto de datos y no debería afectar significativamente los resultados del análisis.\n",
    "La distribución uniforme de usuarios entre los grupos experimentales es crucial para garantizar la validez de las pruebas A/A/B."
   ]
  },
  {
   "cell_type": "markdown",
   "id": "29dc7dd4",
   "metadata": {},
   "source": [
    "## Estudiar el embudo de eventos."
   ]
  },
  {
   "cell_type": "code",
   "execution_count": 23,
   "id": "f1ec9cbc",
   "metadata": {},
   "outputs": [
    {
     "name": "stdout",
     "output_type": "stream",
     "text": [
      "Eventos únicos: ['Tutorial' 'MainScreenAppear' 'OffersScreenAppear' 'CartScreenAppear'\n",
      " 'PaymentScreenSuccessful']\n",
      "name\n",
      "MainScreenAppear           117431\n",
      "OffersScreenAppear          46350\n",
      "CartScreenAppear            42365\n",
      "PaymentScreenSuccessful     34113\n",
      "Tutorial                     1039\n",
      "Name: count, dtype: int64\n",
      "name\n",
      "MainScreenAppear           7419\n",
      "OffersScreenAppear         4593\n",
      "CartScreenAppear           3734\n",
      "PaymentScreenSuccessful    3539\n",
      "Tutorial                    840\n",
      "Name: user_id, dtype: int64\n"
     ]
    }
   ],
   "source": [
    "print(\"Eventos únicos:\", logs_filtrados['name'].unique())\n",
    "print(logs_filtrados['name'].value_counts())\n",
    "print(logs_filtrados.groupby('name')['user_id'].nunique().sort_values(ascending=False))"
   ]
  },
  {
   "cell_type": "code",
   "execution_count": 24,
   "id": "eb02d3ba",
   "metadata": {},
   "outputs": [
    {
     "name": "stdout",
     "output_type": "stream",
     "text": [
      "Proporción de usuarios en MainScreenAppear: 0.9847358640828245\n"
     ]
    }
   ],
   "source": [
    "all_users = logs_filtrados['user_id'].nunique()\n",
    "main_screen_users = logs_filtrados[logs_filtrados['name'] == 'MainScreenAppear']['user_id'].nunique()\n",
    "print(\"Proporción de usuarios en MainScreenAppear:\", main_screen_users / all_users)"
   ]
  },
  {
   "cell_type": "code",
   "execution_count": 25,
   "id": "425e77bf",
   "metadata": {},
   "outputs": [
    {
     "name": "stdout",
     "output_type": "stream",
     "text": [
      "Proporción MainScreenAppear: 100.00%\n",
      "Proporción OffersScreenAppear: 61.91%\n",
      "Proporción CartScreenAppear: 50.33%\n",
      "Proporción PaymentScreenSuccessful: 47.70%\n",
      "Conversión total: 47.70%\n"
     ]
    }
   ],
   "source": [
    "pivot = logs_filtrados.pivot_table(index='user_id', columns='name', values='date_time', aggfunc='min')\n",
    "steps = ['MainScreenAppear', 'OffersScreenAppear', 'CartScreenAppear', 'PaymentScreenSuccessful']\n",
    "step_counts = {}\n",
    "for step in steps:\n",
    "    step_counts[step] = pivot[~pivot[step].isna()].shape[0]\n",
    "proportions = {}\n",
    "for step in steps:\n",
    "    proportions[step] = step_counts[step] / step_counts['MainScreenAppear']\n",
    "for step in steps:\n",
    "    print(f\"Proporción {step}: {proportions[step]:.2%}\")\n",
    "conversion_total = proportions['PaymentScreenSuccessful']\n",
    "print(f\"Conversión total: {conversion_total:.2%}\")"
   ]
  },
  {
   "cell_type": "markdown",
   "id": "5a11adfb",
   "metadata": {},
   "source": [
    "- La proporción del 100% en MainScreenAppear confirma que este evento está bien definido como el punto de partida del embudo. Es consistente y confiable.\n",
    "\n",
    "- A pesar de la disminución entre OffersScreenAppear y CartScreenAppear, el embudo en general muestra una progresión constante. Esto sugiere que los usuarios están encontrando valor a medida que avanzan en el proceso.\n",
    "\n",
    "- La caída del ~38% entre la pantalla de ofertas y la del carrito (OffersScreenAppear a CartScreenAppear) es un área de preocupación. Indica que muchos usuarios muestran interés inicial pero no concretan la compra.\n",
    "\n",
    "- Una tasa de conversión total del 47.70% es relativamente alta para muchas aplicaciones. Esto sugiere que, en general, la aplicación es efectiva para convertir usuarios en compradores."
   ]
  },
  {
   "cell_type": "markdown",
   "id": "6a5a9755",
   "metadata": {},
   "source": [
    "## Estudiar los resultados del experimento."
   ]
  },
  {
   "cell_type": "code",
   "execution_count": 26,
   "id": "abd0b9fc",
   "metadata": {},
   "outputs": [
    {
     "name": "stdout",
     "output_type": "stream",
     "text": [
      "Hay una diferencia estadísticamente significativa.\n",
      "Hay una diferencia estadísticamente significativa.\n",
      "Hay una diferencia estadísticamente significativa.\n"
     ]
    }
   ],
   "source": [
    "def generar_conversion(logs_filtrados, evento_inicial, evento_final, grupo_control):\n",
    "    # Filtrar el DataFrame para los usuarios que realizaron el evento inicial en el grupo de control\n",
    "    grupo_control_inicial = logs_filtrados[(logs_filtrados['experiment'] == grupo_control) & (logs_filtrados['name'] == evento_inicial)]['user_id']\n",
    "\n",
    "    # Filtrar el DataFrame para los usuarios que realizaron el evento final en el grupo de control\n",
    "    grupo_control_final = logs_filtrados[(logs_filtrados['experiment'] == grupo_control) & (logs_filtrados['name'] == evento_final)]['user_id']\n",
    "\n",
    "    # Crear una columna con 1 para los usuarios que realizaron la conversión y 0 para los que no\n",
    "    logs_filtrados['conversion'] = logs_filtrados['user_id'].isin(grupo_control_final).astype(int)\n",
    "\n",
    "    return logs_filtrados['conversion']\n",
    "\n",
    "# Ejemplo de uso para las conversiones\n",
    "evento_inicial = 'MainScreenAppear'\n",
    "evento_intermedio = 'OffersScreenAppear'\n",
    "evento_intermedio_2 = 'CartScreenAppear'\n",
    "evento_final = 'PaymentScreenSuccessful'\n",
    "\n",
    "grupo_control = 246\n",
    "\n",
    "# Aplicar la función para generar la columna de conversión para el grupo de control 246 ( control)\n",
    "conversion246_1 = generar_conversion(logs_filtrados, evento_inicial, evento_intermedio, grupo_control)\n",
    "conversion246_2 =  generar_conversion(logs_filtrados,evento_intermedio,evento_intermedio_2,grupo_control)\n",
    "conversion246_3=generar_conversion(logs_filtrados,evento_intermedio_2,evento_final,grupo_control)\n",
    "# hacer lo mismo para el grupo de control 247\n",
    "grupo_control247= 247\n",
    "conversion247_1=generar_conversion(logs_filtrados, evento_inicial, evento_intermedio, grupo_control247)\n",
    "conversion247_2=generar_conversion(logs_filtrados, evento_intermedio, evento_intermedio_2, grupo_control247)\n",
    "conversion247_3=generar_conversion(logs_filtrados,evento_intermedio_2,evento_final,grupo_control247)\n",
    "# hacer una funcion para hacer la prueba de diferencia significativa\n",
    "def realizar_prueba_z_e_imprimir_resultado(conversiones_grupo_1, conversiones_grupo_2, alpha=0.01):\n",
    "    # Realizar la prueba de diferencia de proporciones:\n",
    "    z_stat, p_value = proportions_ztest([conversiones_grupo_1.sum(), conversiones_grupo_2.sum()], [len(conversiones_grupo_1), len(conversiones_grupo_2)])\n",
    "\n",
    "\n",
    "    if p_value < alpha:\n",
    "        print(\"Hay una diferencia estadísticamente significativa.\")\n",
    "    else:\n",
    "        print(\"No hay evidencia suficiente para afirmar que hay una diferencia estadísticamente significativa.\")\n",
    "#realizar prueba para la primera conversion\n",
    "realizar_prueba_z_e_imprimir_resultado(conversion246_1, conversion247_1)\n",
    "#realizar prueba para la segunda conversion\n",
    "realizar_prueba_z_e_imprimir_resultado(conversion246_2, conversion247_2)\n",
    "#realizar prueba para la segunda converion\n",
    "realizar_prueba_z_e_imprimir_resultado(conversion246_3, conversion247_3)"
   ]
  },
  {
   "cell_type": "code",
   "execution_count": 27,
   "id": "e7b55d85",
   "metadata": {},
   "outputs": [
    {
     "name": "stdout",
     "output_type": "stream",
     "text": [
      "Hay una diferencia estadísticamente significativa.\n",
      "Hay una diferencia estadísticamente significativa.\n",
      "Hay una diferencia estadísticamente significativa.\n"
     ]
    }
   ],
   "source": [
    "#definir el grupo de tratamiento 248\n",
    "grupo_tratamiento248= 248\n",
    "#sacar las pruebas de conversion\n",
    "conversion248_1=generar_conversion(logs_filtrados, evento_inicial, evento_intermedio, grupo_tratamiento248)\n",
    "conversion248_2=generar_conversion(logs_filtrados, evento_intermedio, evento_intermedio_2, grupo_tratamiento248)\n",
    "conversion248_3=generar_conversion(logs_filtrados, evento_intermedio_2, evento_final, grupo_tratamiento248)\n",
    "#verificar la diferencia significativa con el grupo246\n",
    "#realizar prueba para la primera conversion\n",
    "realizar_prueba_z_e_imprimir_resultado(conversion246_1, conversion248_1)\n",
    "#realizar prueba para la segunda conversion\n",
    "realizar_prueba_z_e_imprimir_resultado(conversion246_2, conversion248_2)\n",
    "#realizar prueba para la segunda converion\n",
    "realizar_prueba_z_e_imprimir_resultado(conversion246_3, conversion248_3)"
   ]
  },
  {
   "cell_type": "code",
   "execution_count": 28,
   "id": "fab03a2e",
   "metadata": {},
   "outputs": [
    {
     "name": "stdout",
     "output_type": "stream",
     "text": [
      "Hay una diferencia estadísticamente significativa.\n",
      "Hay una diferencia estadísticamente significativa.\n",
      "Hay una diferencia estadísticamente significativa.\n"
     ]
    }
   ],
   "source": [
    "#verificar la diferencia significativa con el grupo247\n",
    "#realizar prueba para la primera conversion\n",
    "realizar_prueba_z_e_imprimir_resultado(conversion247_1, conversion248_1)\n",
    "#realizar prueba para la segunda conversion\n",
    "realizar_prueba_z_e_imprimir_resultado(conversion247_2, conversion248_2)\n",
    "#realizar prueba para la segunda converion\n",
    "realizar_prueba_z_e_imprimir_resultado(conversion247_3, conversion248_3)"
   ]
  }
 ],
 "metadata": {
  "kernelspec": {
   "display_name": "base",
   "language": "python",
   "name": "python3"
  },
  "language_info": {
   "codemirror_mode": {
    "name": "ipython",
    "version": 3
   },
   "file_extension": ".py",
   "mimetype": "text/x-python",
   "name": "python",
   "nbconvert_exporter": "python",
   "pygments_lexer": "ipython3",
   "version": "3.12.7"
  }
 },
 "nbformat": 4,
 "nbformat_minor": 5
}
